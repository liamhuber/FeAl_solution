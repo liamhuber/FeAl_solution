{
 "cells": [
  {
   "cell_type": "markdown",
   "id": "86fedaff-d4bd-448c-86c4-26bd1bf2de61",
   "metadata": {},
   "source": [
    "# Introduction\n",
    "\n",
    "This project run top-to-bottom produces all of the figures and other data found in the supplementary and manuscript which pertain to the atomistics simulations. On our machine this took ~136 core hours, the vast majority of which goes to a few coupled Monte Carlo-Molecular Dynamics (MCMD) Lammps runs (with an MEAM potential, for which the Lammps fix is not optimized -- those with an EAM potential also ran but are much faster).\n",
    "\n",
    "Together with the code in `pyiron_FeAl` you should, up to changes based on the stochastic nature of running MD and working with solid solutions, be able to reproduce everything.\n",
    "\n",
    "There will be some annotation through the notebook, and the code has some structure, but be a bit forgiving. At least you've got it. "
   ]
  },
  {
   "cell_type": "markdown",
   "id": "9c43bfd5-279f-47cb-a13c-5de74b2172bf",
   "metadata": {},
   "source": [
    "# Setup"
   ]
  },
  {
   "cell_type": "markdown",
   "id": "44066b7c-1c1f-4900-af04-ee04c4209b17",
   "metadata": {},
   "source": [
    "**WARNING:** The one system-specific variable here is the `server` below. We never use more than a single core, but some of the MC/MD calculations take a few days, so it's advisable to get your own pyiron installation running on a remote cluster and set this server attribute to be appropriate for your machine."
   ]
  },
  {
   "cell_type": "code",
   "execution_count": 1,
   "id": "03632af9-ea97-4c60-a998-aedbe5256375",
   "metadata": {},
   "outputs": [],
   "source": [
    "SERVER = 'cm'"
   ]
  },
  {
   "cell_type": "code",
   "execution_count": 2,
   "id": "ba9377e6-c755-4357-89fa-4904659fe641",
   "metadata": {},
   "outputs": [],
   "source": [
    "from pyiron_feal import Project\n",
    "import numpy as np\n",
    "import matplotlib.pyplot as plt\n",
    "import seaborn as sns\n",
    "sns.set_context('notebook')\n",
    "from scipy.constants import physical_constants\n",
    "KB = physical_constants['Boltzmann constant in eV/K'][0]"
   ]
  },
  {
   "cell_type": "code",
   "execution_count": 3,
   "id": "085ca8c4-daa3-42e8-9879-55c1f8d14b15",
   "metadata": {},
   "outputs": [],
   "source": [
    "pr = Project('projects/research')"
   ]
  },
  {
   "cell_type": "markdown",
   "id": "e37bd4b9-7c27-4b96-aba1-5077b94ee9a7",
   "metadata": {},
   "source": [
    "# Emperical potentail evaluation\n",
    "\n",
    "First let's see which potentials give BCC stability. We'll probe the 0K energy of our phases of interest."
   ]
  },
  {
   "cell_type": "code",
   "execution_count": 4,
   "id": "5da12278-141d-4db2-8c7c-22a64e7ecd1b",
   "metadata": {},
   "outputs": [
    {
     "data": {
      "image/png": "[encoded data removed]",
      "text/plain": [
       "<Figure size 432x360 with 4 Axes>"
      ]
     },
     "metadata": {
      "needs_background": "light"
     },
     "output_type": "display_data"
    }
   ],
   "source": [
    "n_potls = len(pr.input.potentials)\n",
    "fig, axes = plt.subplots(ncols=2, nrows=2, sharex=True, sharey=True, figsize=(6,5))\n",
    "\n",
    "for potl_index, potl_name in enumerate(pr.input.potentials):\n",
    "    ax = pr.zerok.plot_phases_0K(\n",
    "        potl_index=potl_index, \n",
    "        ax=axes.flatten()[potl_index],\n",
    "        label_x=potl_index in [2, 3],\n",
    "        label_y=potl_index in [0, 2]\n",
    "    )\n",
    "    ax.set_title(pr.lammps_potl_to_string(potl_name))\n",
    "fig.tight_layout()\n",
    "fig.savefig('writeup/supplementary/figures/zerok_phases.eps', format='eps')"
   ]
  },
  {
   "cell_type": "markdown",
   "id": "6956ccea-d451-4a55-87e4-e6444502718d",
   "metadata": {},
   "source": [
    "The Farkas and Jelinek potentials don't give clear BCC dominance, so we'll just ignore them from here.\n",
    "\n",
    "# Solid solution\n",
    "\n",
    "Next let's probe a little deeper by adding Al antisites in the BCC Fe. We'll do this randomly for a bunch of configurations and look at the 0K potential energy as a function of Al concentration"
   ]
  },
  {
   "cell_type": "code",
   "execution_count": 5,
   "id": "f3014d5f-993b-4699-afc8-342ffaa35dc1",
   "metadata": {},
   "outputs": [],
   "source": [
    "def plot_phase_energy_with_config_entropy(filename, with_layers_and_columns=True, both_potentials=True, use_title=True):\n",
    "    # Columnar\n",
    "    reps = np.arange(1, 6, dtype=int)\n",
    "    columnar_c_Al = [1 / len(pr.create.structure.FeAl.columnar_b2(planar_repeats=r)) for r in reps]  # 1 / (2 * reps**2)\n",
    "\n",
    "    # Layered\n",
    "    layers = np.arange(1, 10, dtype=int)\n",
    "    layered_c_Al = [1 / len(pr.create.structure.FeAl.layered_Al(layers=l)) for l in layers]\n",
    "\n",
    "    # Solid solution\n",
    "    c_Al_targets = np.unique(np.concatenate((\n",
    "        np.linspace(0, 0.1, 3),\n",
    "        np.linspace(0.1, 0.2, 11),\n",
    "        np.linspace(0.2, 0.25, 3)\n",
    "    )))\n",
    "    deg = 3\n",
    "    c_range = np.linspace(0, 0.25, 200)\n",
    "\n",
    "    if both_potentials:\n",
    "        fig, axes = plt.subplots(nrows=2, figsize=(5, 9))\n",
    "        potl_indices = [0, 2]\n",
    "    else:\n",
    "        fig, axis = plt.subplots()\n",
    "        axes = [axis]\n",
    "        potl_indices = [2]\n",
    "    for potl_index, ax in zip(potl_indices, axes):\n",
    "        e_ref =  pr.zerok.get_bcc_peratom_energy(potl_index=potl_index)\n",
    "\n",
    "        columnar_energy = np.array([\n",
    "            pr.zerok.get_columnar_b2_peratom_energy(planar_repeats=r, potl_index=potl_index) \n",
    "            for r in reps\n",
    "        ]) - e_ref\n",
    "\n",
    "        layered_energy = np.array([\n",
    "            pr.zerok.get_layered_peratom_energy(layers=l, potl_index=potl_index) \n",
    "            for l in layers\n",
    "        ]) - e_ref\n",
    "\n",
    "        concentrations, solution_energies = pr.zerok.get_bcc_solution_energies(\n",
    "            c_Al_targets, \n",
    "            repeat=3, \n",
    "            n_trials=10,\n",
    "            potl_index=potl_index\n",
    "        )\n",
    "        means, stds = solution_energies.mean(axis=-1) - e_ref, solution_energies.std(axis=-1)\n",
    "        S = pr.zerok.S_ideal_mixing(c_Al_targets)\n",
    "        poly = np.poly1d(np.polyfit(concentrations, means, deg=deg))\n",
    "\n",
    "        ax = pr.zerok.plot_phases_0K(\n",
    "            relative=True, \n",
    "            potl_index=potl_index,\n",
    "            ax=ax\n",
    "        )\n",
    "        if with_layers_and_columns:\n",
    "            ax.plot(columnar_c_Al, columnar_energy, label='Columnar', marker='o', linestyle='--')\n",
    "            ax.plot(layered_c_Al, layered_energy, label='Layered', marker='s', linestyle='--')\n",
    "        ax.errorbar(\n",
    "            concentrations,\n",
    "            means,\n",
    "            yerr=1.96*stds,  # std -> 95% confidence interval\n",
    "            marker='<',\n",
    "            linestyle=':',\n",
    "            label='Solution 0K'\n",
    "        )\n",
    "        ax.errorbar(\n",
    "            concentrations,\n",
    "            means -523*S,\n",
    "            yerr=1.96*stds,  # std -> 95% confidence interval\n",
    "            marker='<',\n",
    "            linestyle=':',\n",
    "            label='Solution 523K'\n",
    "        )\n",
    "        ax.errorbar(\n",
    "            concentrations,\n",
    "            means -873*S,\n",
    "            yerr=1.96*stds,  # std -> 95% confidence interval\n",
    "            marker='>',\n",
    "            linestyle=':',\n",
    "            label='Solution 873K'\n",
    "        )\n",
    "        ax.axvline(0.18, color='k', linestyle='--')\n",
    "        if use_title:\n",
    "            ax.set_title(pr.input.potentials[potl_index])\n",
    "        ax.legend()\n",
    "    fig.tight_layout()\n",
    "    fig.savefig(filename, format='eps')    \n",
    "    plt.show();"
   ]
  },
  {
   "cell_type": "code",
   "execution_count": 6,
   "id": "5bc0dce5-220a-4c83-a94f-4f247b47e95a",
   "metadata": {},
   "outputs": [
    {
     "name": "stderr",
     "output_type": "stream",
     "text": [
      "The PostScript backend does not support transparency; partially transparent artists will be rendered opaque.\n",
      "The PostScript backend does not support transparency; partially transparent artists will be rendered opaque.\n",
      "The PostScript backend does not support transparency; partially transparent artists will be rendered opaque.\n",
      "The PostScript backend does not support transparency; partially transparent artists will be rendered opaque.\n"
     ]
    },
    {
     "data": {
      "image/png": "[encoded data removed]",
      "text/plain": [
       "<Figure size 360x648 with 2 Axes>"
      ]
     },
     "metadata": {
      "needs_background": "light"
     },
     "output_type": "display_data"
    }
   ],
   "source": [
    "plot_phase_energy_with_config_entropy('writeup/supplementary/figures/expanded_0K_phases.eps')"
   ]
  },
  {
   "cell_type": "markdown",
   "id": "9ba60e47-ba35-4b76-a31c-2ae166828f27",
   "metadata": {},
   "source": [
    "In the process of doing this research, we discovered that the Mendelev potential actually has a strong preference for this ordered phase of Al columns and planes. We'll run with it anyhow (i.e. the expensive MCMD calculations had already been done...) but it's not very promising that we'll see D03!\n",
    "\n",
    "The Lee potential doesn't have this problem. The Al solubility seems a little bit low, and at 18\\% Al we only expect an measurable Al concentration in BCC phase at the highest temperature. However, this is at least qualitatively correct -- not bad for an empirical potential!"
   ]
  },
  {
   "cell_type": "code",
   "execution_count": 7,
   "id": "3bc403dd-9d51-4c29-befa-cbfd1ffa7a9e",
   "metadata": {},
   "outputs": [
    {
     "name": "stderr",
     "output_type": "stream",
     "text": [
      "The PostScript backend does not support transparency; partially transparent artists will be rendered opaque.\n",
      "The PostScript backend does not support transparency; partially transparent artists will be rendered opaque.\n"
     ]
    },
    {
     "data": {
      "image/png": "[encoded data removed]",
      "text/plain": [
       "<Figure size 432x288 with 1 Axes>"
      ]
     },
     "metadata": {
      "needs_background": "light"
     },
     "output_type": "display_data"
    }
   ],
   "source": [
    "plot_phase_energy_with_config_entropy(\n",
    "    'writeup/figures/expanded_0K_phases.eps', \n",
    "    with_layers_and_columns=False,\n",
    "    both_potentials=False,\n",
    "    use_title=False\n",
    ")  # Streamlined a bit for the main manuscript"
   ]
  },
  {
   "cell_type": "code",
   "execution_count": 8,
   "id": "4cc73435-4ccc-4f00-9364-be8f2373162a",
   "metadata": {},
   "outputs": [
    {
     "data": {
      "text/plain": [
       "432"
      ]
     },
     "execution_count": 8,
     "metadata": {},
     "output_type": "execute_result"
    }
   ],
   "source": [
    "solid_solution_size = len(pr.inspect('min_p2_bcc_r3_t4_P0_cAl5_09')['output/generic/positions'][-1])\n",
    "solid_solution_size"
   ]
  },
  {
   "cell_type": "markdown",
   "id": "4e027c08-8095-47bb-9918-0b7e89071418",
   "metadata": {},
   "source": [
    "Let's visualize some of these structures (Figs for the manuscripts were generated from here by hand with screenshots, sorry!)"
   ]
  },
  {
   "cell_type": "code",
   "execution_count": 9,
   "id": "2df19431-bacc-46e7-be78-be295b3d6e47",
   "metadata": {},
   "outputs": [
    {
     "data": {
      "application/vnd.jupyter.widget-view+json": {
       "model_id": "603e80edb0564ac3bbbbcf4a98aac5ee",
       "version_major": 2,
       "version_minor": 0
      },
      "text/plain": []
     },
     "metadata": {},
     "output_type": "display_data"
    },
    {
     "data": {
      "application/vnd.jupyter.widget-view+json": {
       "model_id": "c9c15d6a126f475a87d13538c0d79d04",
       "version_major": 2,
       "version_minor": 0
      },
      "text/plain": [
       "NGLWidget()"
      ]
     },
     "metadata": {},
     "output_type": "display_data"
    }
   ],
   "source": [
    "pr.create.structure.FeAl.fcc().plot3d(view_plane=[1, 1, 1])"
   ]
  },
  {
   "cell_type": "code",
   "execution_count": 10,
   "id": "d68674ef-3b33-42c0-ba40-b67b61d6ead5",
   "metadata": {},
   "outputs": [
    {
     "data": {
      "application/vnd.jupyter.widget-view+json": {
       "model_id": "174d1967d18746adb4bd547433253965",
       "version_major": 2,
       "version_minor": 0
      },
      "text/plain": [
       "NGLWidget()"
      ]
     },
     "metadata": {},
     "output_type": "display_data"
    }
   ],
   "source": [
    "pr.create.structure.FeAl.bcc(repeat=3, c_Al=0.18).plot3d()"
   ]
  },
  {
   "cell_type": "code",
   "execution_count": 11,
   "id": "d2ffd57c-7162-48c0-8b0c-8233ad9f1f5f",
   "metadata": {},
   "outputs": [
    {
     "data": {
      "application/vnd.jupyter.widget-view+json": {
       "model_id": "06b34955640c48b48e2cd7197939facb",
       "version_major": 2,
       "version_minor": 0
      },
      "text/plain": [
       "NGLWidget()"
      ]
     },
     "metadata": {},
     "output_type": "display_data"
    }
   ],
   "source": [
    "pr.create.structure.FeAl.d03().plot3d()"
   ]
  },
  {
   "cell_type": "code",
   "execution_count": 12,
   "id": "e9008d5d-045b-451c-b54d-4acc916a08e0",
   "metadata": {},
   "outputs": [
    {
     "data": {
      "application/vnd.jupyter.widget-view+json": {
       "model_id": "00b095f55b6a426887631e07c4882b65",
       "version_major": 2,
       "version_minor": 0
      },
      "text/plain": [
       "NGLWidget()"
      ]
     },
     "metadata": {},
     "output_type": "display_data"
    }
   ],
   "source": [
    "pr.create.structure.FeAl.b2().plot3d()"
   ]
  },
  {
   "cell_type": "code",
   "execution_count": 13,
   "id": "fb04f1a9-c8a5-4e0f-8e22-f2f7f8e8122c",
   "metadata": {},
   "outputs": [
    {
     "data": {
      "application/vnd.jupyter.widget-view+json": {
       "model_id": "13a9c1747edb4a5cb40e407f7cae88b4",
       "version_major": 2,
       "version_minor": 0
      },
      "text/plain": [
       "NGLWidget()"
      ]
     },
     "metadata": {},
     "output_type": "display_data"
    }
   ],
   "source": [
    "pr.create.structure.FeAl.columnar_b2(planar_repeats=3).repeat(2).plot3d()"
   ]
  },
  {
   "cell_type": "code",
   "execution_count": 14,
   "id": "a86d7fec-4efe-4f8b-9b59-f13bb6a81809",
   "metadata": {},
   "outputs": [
    {
     "data": {
      "application/vnd.jupyter.widget-view+json": {
       "model_id": "9ea915eb3be44d53ad0fbb2a57d6ce6c",
       "version_major": 2,
       "version_minor": 0
      },
      "text/plain": [
       "NGLWidget()"
      ]
     },
     "metadata": {},
     "output_type": "display_data"
    }
   ],
   "source": [
    "pr.create.structure.FeAl.layered_Al(layers=3).repeat(3).plot3d()"
   ]
  },
  {
   "cell_type": "markdown",
   "id": "3ed56a40-4e40-4782-9e21-f049288079ec",
   "metadata": {},
   "source": [
    "# Finite temperature\n",
    "\n",
    "Finally, let's introduce finite temperature by running variance constrained semi-grand-cannonical (VCSGC) MCMD. We'll use quite a strict variance constraint so that our nominal composition stays very close to the nominal experimental concentration of 18\\%Al, and will run at both experimental temperatures for both the Mendelev and Lee potentials on a cube 4nm to each side -- smaller than the experimental APT tips, but the same ballpark."
   ]
  },
  {
   "cell_type": "code",
   "execution_count": 15,
   "id": "db3b0bd6-fb16-4f8a-8a82-9097e57b1de1",
   "metadata": {},
   "outputs": [
    {
     "name": "stderr",
     "output_type": "stream",
     "text": [
      "2021-10-13 15:01:05,479 - pyiron_log - WARNING - The job mcmd_p0_cube_523K_cAl18_0_mu0_n100000_k10000 is being loaded instead of running. To re-run use the argument 'delete_existing_job=True in create_job'\n",
      "2021-10-13 15:01:06,396 - pyiron_log - WARNING - The job mcmd_p2_cube_523K_cAl18_0_mu0_n100000_k10000 is being loaded instead of running. To re-run use the argument 'delete_existing_job=True in create_job'\n",
      "2021-10-13 15:01:07,285 - pyiron_log - WARNING - The job mcmd_p0_cube_873K_cAl18_0_mu0_n100000_k10000 is being loaded instead of running. To re-run use the argument 'delete_existing_job=True in create_job'\n",
      "2021-10-13 15:01:08,171 - pyiron_log - WARNING - The job mcmd_p2_cube_873K_cAl18_0_mu0_n100000_k10000 is being loaded instead of running. To re-run use the argument 'delete_existing_job=True in create_job'\n"
     ]
    }
   ],
   "source": [
    "mcmd_jobs = {}\n",
    "potl_name = ['Mendelev', 'Lee']\n",
    "for T in [523, 873]:\n",
    "    for i, potl in enumerate([0, 2]):\n",
    "        job = pr.create.job.mcmd.small_cube(\n",
    "            temperature=T, \n",
    "            potl_index=potl,\n",
    "            n_ionic_steps=1e5,\n",
    "            n_print=1e4\n",
    "        )\n",
    "        job.server.queue = SERVER\n",
    "        job.run()\n",
    "        mcmd_jobs[f'{potl_name[i]} {T}K'] = job"
   ]
  },
  {
   "cell_type": "code",
   "execution_count": 16,
   "id": "1b3be9ea-b205-4704-90cb-144d4c23bd7e",
   "metadata": {},
   "outputs": [
    {
     "data": {
      "text/plain": [
       "dict_keys(['Mendelev 523K', 'Lee 523K', 'Mendelev 873K', 'Lee 873K'])"
      ]
     },
     "execution_count": 16,
     "metadata": {},
     "output_type": "execute_result"
    }
   ],
   "source": [
    "mcmd_jobs.keys()"
   ]
  },
  {
   "cell_type": "markdown",
   "id": "bd5094ca-ca97-48bc-9e24-d4e625331637",
   "metadata": {},
   "source": [
    "How well converged are these? One rough estimate is just to look at the energy -- if it has stabilized and is just fluctuating then the atoms have probably ordered themselves in a pretty favourable way."
   ]
  },
  {
   "cell_type": "code",
   "execution_count": 17,
   "id": "8c7690ed-dbe9-47e1-b981-e1ea7f041a14",
   "metadata": {},
   "outputs": [
    {
     "data": {
      "image/png": "[encoded data removed]",
      "text/plain": [
       "<Figure size 432x288 with 4 Axes>"
      ]
     },
     "metadata": {
      "needs_background": "light"
     },
     "output_type": "display_data"
    }
   ],
   "source": [
    "fig, axes = plt.subplots(ncols=2, nrows=2, sharex=True)\n",
    "for ax, (title, job) in zip(axes.flatten(), mcmd_jobs.items()):\n",
    "    N = len(job.structure)\n",
    "    time = (1 + np.arange(len(job.output.energy_pot[1:]))) * 10  # ps\n",
    "    mean_last_5 = job.output.energy_pot[-5:].mean() / N\n",
    "    ax.plot(time, (job.output.energy_pot[1:] / N) - mean_last_5, marker='x')\n",
    "    ax.axhline(0, color='k', linestyle='--')\n",
    "    ax.set_title(title) #job.potential['Name'].values[0])\n",
    "axes[1, 0].set_xlabel('time [ps]')\n",
    "axes[1, 1].set_xlabel('time [ps]')\n",
    "axes[0, 0].set_ylabel('$E$ [eV/atom]') \n",
    "axes[1, 0].set_ylabel('$E$ [eV/atom]') \n",
    "fig.tight_layout()\n",
    "fig.savefig(\n",
    "    'writeup/supplementary/figures/energy_conv.eps', \n",
    "    format='eps'\n",
    ")\n",
    "plt.show()"
   ]
  },
  {
   "cell_type": "markdown",
   "id": "e8468e91-8b4f-4812-b842-7f02e4dae135",
   "metadata": {},
   "source": [
    "By comparing the energy to the average of the last five frames, we can see a couple things: the hot simulations equilibrate faster, and the Lee potential equilibrates slower. Only the Lee potential at the cold temperature of 523K is a big red flag.\n",
    "\n",
    "This behaviour actually makes some sense -- if we go back to our 0K \"phase diagram\" we can see that this potential probably prefers phase separation in both these cases, but for the colder temperature it wants almost 0\\% Al in the BCC solution! We started the simulation with 18\\%Al solid solution, so it's not surprising that it takes a long time to collect all that into D03. At the higher temperature we can expect the solid solution to accept something in the very rough neighbourhood of 10\\%Al, which is not nearly so much work. We'll come back to this topic again at the end of the notebook.\n",
    "\n",
    "Let's peek at the final states of the systems. (We'll remap the final chemistry back onto the initial 0K unperturbed lattice sites.)"
   ]
  },
  {
   "cell_type": "code",
   "execution_count": 18,
   "id": "333e5f55-f4c4-4efd-9d33-8b15c460b055",
   "metadata": {},
   "outputs": [
    {
     "data": {
      "application/vnd.jupyter.widget-view+json": {
       "model_id": "6cf92631c820405ebb4505efab9fde57",
       "version_major": 2,
       "version_minor": 0
      },
      "text/plain": [
       "NGLWidget()"
      ]
     },
     "metadata": {},
     "output_type": "display_data"
    }
   ],
   "source": [
    "pr.mcmd_sro.remap_species(mcmd_jobs['Mendelev 523K']).plot3d()"
   ]
  },
  {
   "cell_type": "code",
   "execution_count": 19,
   "id": "b71df26d-2f87-4763-aec2-14d1a595bc86",
   "metadata": {},
   "outputs": [
    {
     "data": {
      "application/vnd.jupyter.widget-view+json": {
       "model_id": "45ebec94205c42ac81571f4d809f4b49",
       "version_major": 2,
       "version_minor": 0
      },
      "text/plain": [
       "NGLWidget()"
      ]
     },
     "metadata": {},
     "output_type": "display_data"
    }
   ],
   "source": [
    "pr.mcmd_sro.remap_species(mcmd_jobs['Mendelev 873K']).plot3d()"
   ]
  },
  {
   "cell_type": "markdown",
   "id": "c4b62bc7-6d25-4d92-9a21-1478ed6b9017",
   "metadata": {},
   "source": [
    "For the Mendelev potential, it's actually not too hard to see by simple visual inspection the formation of these rod-like Al structures our 0K calculations predicted were favourable."
   ]
  },
  {
   "cell_type": "code",
   "execution_count": 20,
   "id": "6c590ef8-62be-4aad-89e5-141f8cc0e096",
   "metadata": {},
   "outputs": [
    {
     "data": {
      "application/vnd.jupyter.widget-view+json": {
       "model_id": "f93e25209c94453ab9f704583608f13d",
       "version_major": 2,
       "version_minor": 0
      },
      "text/plain": [
       "NGLWidget()"
      ]
     },
     "metadata": {},
     "output_type": "display_data"
    }
   ],
   "source": [
    "pr.mcmd_sro.remap_species(mcmd_jobs['Lee 523K']).plot3d()"
   ]
  },
  {
   "cell_type": "code",
   "execution_count": 21,
   "id": "992dbc51-8394-41d2-80fb-5819c36801ef",
   "metadata": {},
   "outputs": [
    {
     "data": {
      "application/vnd.jupyter.widget-view+json": {
       "model_id": "351513385cdd4c95999277085b396962",
       "version_major": 2,
       "version_minor": 0
      },
      "text/plain": [
       "NGLWidget()"
      ]
     },
     "metadata": {},
     "output_type": "display_data"
    }
   ],
   "source": [
    "pr.mcmd_sro.remap_species(mcmd_jobs['Lee 873K']).plot3d()"
   ]
  },
  {
   "cell_type": "markdown",
   "id": "d1f28139-7960-42cf-a106-cbc25950b2b0",
   "metadata": {},
   "source": [
    "# Cluster analysis\n",
    "\n",
    "Finally, let's quantify the cluster formation. Since we don't have any vacancies and are not running hot/long enough to be worried about self-interstitial diffusion, we can assume we know the topology of our atoms. For our cluster analysis we'll keep things very simple and for each atom we'll compare it's immediate neighbourhood to all the symmetrically-equivalent D03 and B2 neighbourhoods. If at least some number of neighbours match the reference pattern for the D03 (B2) then we consider this a D03 (B2) atom! We can repeat this and do a breadth-first-search over the topology to build up clusters.\n",
    "\n",
    "This approach has on degree of freedom: how many neighbours are needed to count as agreeing with the reference pattern? Too low a threshold and you will erroneously get giant \"secondary phase clusters\", but it's probably not fair to require *all* the neighbours to match -- after all, the secondary phases are allowed to contain antisite point defects as well! Below we'll play with a few values."
   ]
  },
  {
   "cell_type": "code",
   "execution_count": 22,
   "id": "88bf0c37-b4bd-4981-ae23-7294f839c31d",
   "metadata": {},
   "outputs": [],
   "source": [
    "n_neigh = 14  # 8=1NN, 14=1+2NN\n",
    "topology = mcmd_jobs['Mendelev 523K'].get_structure(0).get_neighbors(num_neighbors=n_neigh).indices\n",
    "reference_environments = {\n",
    "    ref: getattr(pr.mcmd_sro.reference_symbols.small_cube, ref)\n",
    "    for ref in ['b2_0', 'b2_1', 'd03_0', 'd03_1', 'd03_2', 'd03_3']\n",
    "}  # TODO: Better code between the attribute and the next method call\n",
    "pr.mcmd_sro.define_clustering(\n",
    "    topology=topology, \n",
    "    reference_environments=reference_environments, \n",
    "    threshold=11\n",
    ")"
   ]
  },
  {
   "cell_type": "code",
   "execution_count": 119,
   "id": "2bea2227-4564-4d31-a4cb-75dd38ae8998",
   "metadata": {},
   "outputs": [],
   "source": [
    "clusters = {}\n",
    "for threshold in [11, 12, 13]:\n",
    "    clusters[threshold] = {}\n",
    "    for name, job in mcmd_jobs.items():\n",
    "        clusters[threshold][name] = {}\n",
    "        clusters[threshold][name]['before'] = pr.mcmd_sro.cluster(\n",
    "            job.get_structure(0).get_chemical_symbols(), \n",
    "            threshold=threshold\n",
    "        )\n",
    "        clusters[threshold][name]['after'] = pr.mcmd_sro.cluster(\n",
    "            job.get_structure(-1).get_chemical_symbols(), \n",
    "            threshold=threshold\n",
    "        )"
   ]
  },
  {
   "cell_type": "code",
   "execution_count": 136,
   "id": "aba3e21b-97fb-4833-8415-bfe0348c29f1",
   "metadata": {},
   "outputs": [],
   "source": [
    "def clipit(data, clip):\n",
    "    return np.clip(data, 0, clip) if clip is not None else data\n",
    "\n",
    "def plot_hist(ax, cluster, phase, binsize, clip=None, title=None, logy=True):\n",
    "    before = clipit(getattr(cluster['before'], phase), clip)\n",
    "    after = clipit(getattr(cluster['after'], phase), clip)\n",
    "    biggest = np.amax(np.append(before, after))\n",
    "    ax.hist(\n",
    "        [before, after], \n",
    "        bins=np.arange(biggest + binsize, step=binsize), \n",
    "        label=['before', 'after']\n",
    "    )\n",
    "    if logy:\n",
    "        ax.set_yscale('log')\n",
    "    # ax.set_xscale('symlog')\n",
    "    ax.set_title(title)\n",
    "    return ax\n",
    "\n",
    "def plot_histograms(potl_index, threshold=13, binsize=10, clip=160, title=None, logy=True):\n",
    "    fig, axes = plt.subplots(\n",
    "        ncols=2, \n",
    "        nrows=2, \n",
    "        sharey='col', \n",
    "        sharex='col'\n",
    "    )\n",
    "    potl_name = ['Mendelev', _, 'Lee']\n",
    "\n",
    "\n",
    "    plot_hist(\n",
    "        axes[0, 0],\n",
    "        clusters[threshold][f'{potl_name[potl_index]} 523K'],\n",
    "        'd03', binsize, clip=clip, #title='cold d03',\n",
    "        logy=logy\n",
    "    )\n",
    "    plot_hist(\n",
    "        axes[0, 1],\n",
    "        clusters[threshold][f'{potl_name[potl_index]} 523K'],\n",
    "        'b2', binsize, clip=clip, #title='cold b2',\n",
    "        logy=logy\n",
    "    )\n",
    "    plot_hist(\n",
    "        axes[1, 0],\n",
    "        clusters[threshold][f'{potl_name[potl_index]} 873K'],\n",
    "        'd03', binsize, clip=clip, #title='hot d03',\n",
    "        logy=logy\n",
    "    )\n",
    "    plot_hist(\n",
    "        axes[1, 1],\n",
    "        clusters[threshold][f'{potl_name[potl_index]} 873K'],\n",
    "        'b2', binsize, clip=clip, #title='hot b2',\n",
    "        logy=logy\n",
    "    )\n",
    "    axes[0, 0].set_ylabel('523 K counts')\n",
    "    axes[1, 0].set_ylabel('873 K counts')\n",
    "    axes[1, 0].set_xlabel('D$0_3$ cluster size')\n",
    "    axes[1, 1].set_xlabel('B2 cluster size')\n",
    "    axes[0, 1].legend(loc='upper right')\n",
    "    if title is not None:\n",
    "        fig.suptitle(title)\n",
    "    fig.tight_layout()\n",
    "    return fig, axes"
   ]
  },
  {
   "cell_type": "code",
   "execution_count": 139,
   "id": "8f441a4b-8a2d-4bb5-8eed-46bb99c80c8d",
   "metadata": {},
   "outputs": [
    {
     "data": {
      "image/png": "[encoded data removed]",
      "text/plain": [
       "<Figure size 432x288 with 4 Axes>"
      ]
     },
     "metadata": {
      "needs_background": "light"
     },
     "output_type": "display_data"
    }
   ],
   "source": [
    "fig, axes = plot_histograms(0, threshold=13, clip=100, title='Mendelev', logy=False);\n",
    "fig.savefig(\n",
    "    'writeup/supplementary/figures/mendelev_hist_thresh13.eps', \n",
    "    format='eps'\n",
    ")"
   ]
  },
  {
   "cell_type": "code",
   "execution_count": 141,
   "id": "64e91b8a-5f56-4e29-95f9-17024181b8c8",
   "metadata": {},
   "outputs": [
    {
     "data": {
      "image/png": "[encoded data removed]",
      "text/plain": [
       "<Figure size 432x288 with 4 Axes>"
      ]
     },
     "metadata": {
      "needs_background": "light"
     },
     "output_type": "display_data"
    }
   ],
   "source": [
    "fig, axes = plot_histograms(2, threshold=13, clip=100, title='Lee', logy=True);\n",
    "fig.savefig(\n",
    "    'writeup/supplementary/figures/lee_hist_thresh13.eps', \n",
    "    format='eps'\n",
    ")"
   ]
  },
  {
   "cell_type": "markdown",
   "id": "63297b97-fb4d-4fad-b281-6fe5b8890331",
   "metadata": {},
   "source": [
    "Above, we compare the prevalence of clusters *before* and *after* annealing the random solid solution. In this way we can understand the prevalence of small clusters before annealing as a statistical baseline -- this is the amount of clustering that occurs with *no driving force for short range ordering* -- of course some configurations will randomly match the reference patterns! This is particularly true for D03 Fe sites, which do not require very much Al nearby to look D03-like.\n",
    "\n",
    "For the Mendelev potential, this is both the begining and end of the story. We see a handful of small clusters (2 <= cluster size < 10), and some tendency for this to *increase slightly* with the MCMD annealing in the case of B2, but that's it.\n",
    "\n",
    "For the Lee potential, which starts with a similar number of randomly identified small clusters (about 200, even though the exact initial condition is different for every simulation), but here there is strong evidence for cluster formation. For the cold (and poorly converged) 523 K simulation, one large (>50 atoms) cluster forms, and few small (10-20 atoms) clusters are present, so there is some evidence of phase decomposition, but not really SRO. On the other hand, at the higher temperature there are a few very large clusters (>100 atoms -- the binning is truncated here), as well as a whole handful of medium sized clusters (30-100 atoms).\n",
    "\n",
    "We have full data fidelity, use a different clustering algorithm, and rely on an empirical potential, so a direct quantitative comparison with the experimental results is unwise. However, this potential clearly shows the same *qualitative* behaviour of D03 SRO. For the B2 phase we find almost nothing, but experimentally such clusters are also reported much, much less frequently.\n",
    "\n",
    "Below we look at some of the raw clustering data, examining cluster sizes and count for that size. You can play around with the neighbour counting threshold both below and above in the plots. We found that requiring 13 of the 14 neighbours to match did a good job of resolving the interaction-driven clustering from the random identification of clusters."
   ]
  },
  {
   "cell_type": "code",
   "execution_count": 27,
   "id": "18c72538-2925-433c-8e00-3b19a15c67c4",
   "metadata": {},
   "outputs": [
    {
     "data": {
      "text/plain": [
       "{'b2_0': array([[1, 2]]),\n",
       " 'b2_1': array([[1, 1]]),\n",
       " 'd03_0': array([[ 1, 55],\n",
       "        [ 2,  1],\n",
       "        [ 3,  3],\n",
       "        [ 4,  2],\n",
       "        [ 5,  2],\n",
       "        [ 6,  2],\n",
       "        [ 7,  3],\n",
       "        [ 9,  1],\n",
       "        [12,  1],\n",
       "        [14,  1]]),\n",
       " 'd03_1': array([[ 1, 58],\n",
       "        [ 2,  2],\n",
       "        [ 3,  3],\n",
       "        [ 4,  4],\n",
       "        [ 6,  1],\n",
       "        [ 7,  1],\n",
       "        [ 9,  1],\n",
       "        [11,  1],\n",
       "        [12,  1],\n",
       "        [13,  1],\n",
       "        [14,  1]]),\n",
       " 'd03_2': array([[ 1, 59],\n",
       "        [ 3,  4],\n",
       "        [ 4,  2],\n",
       "        [ 7,  1],\n",
       "        [58,  1]]),\n",
       " 'd03_3': array([[ 1, 45],\n",
       "        [ 2,  1],\n",
       "        [ 3,  2],\n",
       "        [ 4,  2],\n",
       "        [ 6,  1],\n",
       "        [ 7,  2],\n",
       "        [ 9,  2],\n",
       "        [12,  1],\n",
       "        [16,  2]])}"
      ]
     },
     "execution_count": 27,
     "metadata": {},
     "output_type": "execute_result"
    }
   ],
   "source": [
    "clusters[13]['Lee 523K']['after'].stats"
   ]
  },
  {
   "cell_type": "code",
   "execution_count": 28,
   "id": "5690c11f-0418-4faa-9b23-05bc9cbdd648",
   "metadata": {},
   "outputs": [
    {
     "data": {
      "text/plain": [
       "{'b2_0': array([[1, 9]]),\n",
       " 'b2_1': array([[1, 1],\n",
       "        [2, 1]]),\n",
       " 'd03_0': array([[ 1, 30],\n",
       "        [ 2,  1],\n",
       "        [ 3,  2],\n",
       "        [ 4,  1],\n",
       "        [ 5,  1],\n",
       "        [11,  1],\n",
       "        [14,  1],\n",
       "        [15,  2],\n",
       "        [43,  1]]),\n",
       " 'd03_1': array([[ 1, 27],\n",
       "        [ 2,  2],\n",
       "        [ 3,  1],\n",
       "        [ 4,  2],\n",
       "        [ 5,  2],\n",
       "        [13,  1],\n",
       "        [68,  1],\n",
       "        [99,  1]]),\n",
       " 'd03_2': array([[  1,  24],\n",
       "        [  2,   1],\n",
       "        [  3,   3],\n",
       "        [  7,   2],\n",
       "        [ 10,   1],\n",
       "        [ 14,   1],\n",
       "        [ 58,   1],\n",
       "        [118,   1]]),\n",
       " 'd03_3': array([[  1,  20],\n",
       "        [  3,   4],\n",
       "        [  4,   2],\n",
       "        [  5,   1],\n",
       "        [  6,   2],\n",
       "        [ 11,   1],\n",
       "        [ 14,   1],\n",
       "        [ 19,   1],\n",
       "        [ 35,   1],\n",
       "        [262,   1]])}"
      ]
     },
     "execution_count": 28,
     "metadata": {},
     "output_type": "execute_result"
    }
   ],
   "source": [
    "clusters[13]['Lee 873K']['after'].stats"
   ]
  },
  {
   "cell_type": "code",
   "execution_count": 29,
   "id": "d76c313f-913c-4a84-8c79-49cb0b7351bf",
   "metadata": {},
   "outputs": [],
   "source": [
    "def _flat_ids(cluster, phase, i_list):\n",
    "    try:\n",
    "        return np.unique(\n",
    "            np.concatenate([\n",
    "                np.concatenate(cluster[f'{phase}_{i}'])\n",
    "                for i in i_list\n",
    "            ])\n",
    "        )\n",
    "    except ValueError:\n",
    "        return []\n",
    "\n",
    "def flat_d03_ids(cluster):\n",
    "    return _flat_ids(cluster, 'd03', [0, 1, 2, 3])\n",
    "\n",
    "def flat_b2_ids(cluster):\n",
    "    return _flat_ids(cluster, 'b2', [0, 1])\n",
    "\n",
    "def _chemistry_fractions(species):\n",
    "    if len(species) < 1: \n",
    "        return None\n",
    "    n = len(species)\n",
    "    n_Al = np.sum(species == 'Al')\n",
    "    return n_Al / n\n",
    "\n",
    "def get_cluster_chemistry(cluster, job, frame=-1, threshold=12):\n",
    "    species = job.get_structure(frame=frame).get_chemical_symbols()\n",
    "    d03_ids = flat_d03_ids(cluster)\n",
    "    b2_ids = flat_b2_ids(cluster)\n",
    "    return (\n",
    "        _chemistry_fractions(species[d03_ids]), \n",
    "        _chemistry_fractions(species[b2_ids])\n",
    "    )"
   ]
  },
  {
   "cell_type": "markdown",
   "id": "469bd18c-ac2a-4f08-9faf-ac2f8def61b4",
   "metadata": {},
   "source": [
    "We can also peek at the nominal composition within the clusters. What we see is that all clusters tend to be richer in Al than their reference phase. This makes sense, since our alloy is Al-poor compared to the D03 reference, it is easier for your surroundings to look like D03 if you *are* an Al atom and expect to find mostly Fe neighbours than if you are an Fe atom and expect more Al neighbours.\n",
    "\n",
    "Still, the Lee potential at 873 K comes closest to the nominal D03 concentration of 25%, which make sense since here we saw the strongest and largest clustering."
   ]
  },
  {
   "cell_type": "code",
   "execution_count": 30,
   "id": "43eb8fde-c9a0-4d3a-91ec-1a014e5305b1",
   "metadata": {},
   "outputs": [
    {
     "name": "stdout",
     "output_type": "stream",
     "text": [
      "(0.8877551020408163, None)\n",
      "(0.4814453125, 0.9166666666666666)\n",
      "(0.697324414715719, 1.0)\n"
     ]
    }
   ],
   "source": [
    "threshold = 13\n",
    "hot_mendelev_Al_fractions = get_cluster_chemistry(\n",
    "    clusters[threshold]['Mendelev 873K']['after'], \n",
    "    mcmd_jobs['Mendelev 873K'],\n",
    "    threshold=threshold\n",
    ")\n",
    "print(hot_mendelev_Al_fractions)\n",
    "hot_lee_Al_fractions = get_cluster_chemistry(\n",
    "    clusters[threshold]['Lee 873K']['after'], \n",
    "    mcmd_jobs['Lee 873K'],\n",
    "    threshold=threshold\n",
    ")\n",
    "print(hot_lee_Al_fractions)\n",
    "cold_lee_Al_fractions = get_cluster_chemistry(\n",
    "    clusters[threshold]['Lee 523K']['after'], \n",
    "    mcmd_jobs['Lee 523K'],\n",
    "    threshold=threshold\n",
    ")\n",
    "print(cold_lee_Al_fractions)\n",
    "# Hot Lee is much closer to the nominal compositions of 25 and 50% Al"
   ]
  },
  {
   "cell_type": "markdown",
   "id": "90f8ed33-3d58-4a91-99c7-a1153acf6e7d",
   "metadata": {},
   "source": [
    "# Cluster visualization\n",
    "\n",
    "We can straightforwardly see some of these effects by visualizing the largest cluster. By relaxing our clustering criteria a little bit for the Mendelev potential and looking at the largest B2 cluster, we can clearly see this potential's drive towards the columnar and planar Al organization"
   ]
  },
  {
   "cell_type": "code",
   "execution_count": 31,
   "id": "da0d1eb8-cea9-42e8-814d-1e49bc1d3615",
   "metadata": {},
   "outputs": [
    {
     "data": {
      "application/vnd.jupyter.widget-view+json": {
       "model_id": "50ad1d04bfdf43feae3666404f4f0dc2",
       "version_major": 2,
       "version_minor": 0
      },
      "text/plain": [
       "NGLWidget()"
      ]
     },
     "metadata": {},
     "output_type": "display_data"
    }
   ],
   "source": [
    "# Picking up that planar structure in Mendelev\n",
    "a_job = mcmd_jobs['Mendelev 523K']\n",
    "a_cluster = clusters[11]['Mendelev 523K']['after']['b2_1']\n",
    "biggest_cluster = a_cluster[np.argmax([len(c) for c in a_cluster])]\n",
    "pr.mcmd_sro.remap_species(a_job)[biggest_cluster].plot3d()"
   ]
  },
  {
   "cell_type": "code",
   "execution_count": 32,
   "id": "b8880c3a-85c7-4501-bcf9-4a172e4ecee1",
   "metadata": {},
   "outputs": [
    {
     "data": {
      "application/vnd.jupyter.widget-view+json": {
       "model_id": "5c5041d4cb454d8682b7fb9c965232fd",
       "version_major": 2,
       "version_minor": 0
      },
      "text/plain": [
       "NGLWidget()"
      ]
     },
     "metadata": {},
     "output_type": "display_data"
    }
   ],
   "source": [
    "pr.mcmd_sro.remap_species(a_job).plot3d()"
   ]
  },
  {
   "cell_type": "code",
   "execution_count": 33,
   "id": "0d92d2a4-0c4f-492a-afb1-bf075e722401",
   "metadata": {},
   "outputs": [
    {
     "data": {
      "application/vnd.jupyter.widget-view+json": {
       "model_id": "eea2291bd30d47a4be728d15487ba83f",
       "version_major": 2,
       "version_minor": 0
      },
      "text/plain": [
       "NGLWidget()"
      ]
     },
     "metadata": {},
     "output_type": "display_data"
    }
   ],
   "source": [
    "pr.mcmd_sro.remap_species(mcmd_jobs['Mendelev 873K']).plot3d()"
   ]
  },
  {
   "cell_type": "code",
   "execution_count": 34,
   "id": "313625e5-d708-4915-9137-f0680b4dc224",
   "metadata": {},
   "outputs": [
    {
     "data": {
      "application/vnd.jupyter.widget-view+json": {
       "model_id": "abd750ffec6f40f69f4cad55a91f0bbc",
       "version_major": 2,
       "version_minor": 0
      },
      "text/plain": [
       "NGLWidget()"
      ]
     },
     "metadata": {},
     "output_type": "display_data"
    }
   ],
   "source": [
    "# Mendelev is showing D03?! Not at strictness 13 it's not\n",
    "a_job = mcmd_jobs['Mendelev 873K']\n",
    "a_cluster = clusters[13]['Mendelev 873K']['after']['d03_3']\n",
    "biggest_cluster = a_cluster[np.argmax([len(c) for c in a_cluster])]\n",
    "pr.mcmd_sro.remap_species(a_job)[biggest_cluster].plot3d()"
   ]
  },
  {
   "cell_type": "markdown",
   "id": "d3952f21-4fe5-4ef7-b2b0-d9fd3c9ac89f",
   "metadata": {},
   "source": [
    "In contrast, with the same relaxed conditions the Lee potential shows a very normal looking B2 clusters.\n",
    "\n",
    "Examining the Lee potential with the full 13/14 neighbours restriction, we can indeed see that at a higher temperature the largest D03 cluster is significantly bigger than at the cooler 523K condition, as observed in the histograms."
   ]
  },
  {
   "cell_type": "code",
   "execution_count": 35,
   "id": "dcdaf2de-1a49-435c-863a-2ce0e543d902",
   "metadata": {},
   "outputs": [
    {
     "data": {
      "application/vnd.jupyter.widget-view+json": {
       "model_id": "772222bf873749728d86efb093ebe026",
       "version_major": 2,
       "version_minor": 0
      },
      "text/plain": [
       "NGLWidget()"
      ]
     },
     "metadata": {},
     "output_type": "display_data"
    }
   ],
   "source": [
    "# In contrast, what does Lee show at the same conditions?\n",
    "a_job = mcmd_jobs['Lee 523K']\n",
    "a_cluster = clusters[11]['Lee 523K']['after']['b2_0']\n",
    "biggest_cluster = a_cluster[np.argmax([len(c) for c in a_cluster])]\n",
    "pr.mcmd_sro.remap_species(a_job)[biggest_cluster].plot3d()"
   ]
  },
  {
   "cell_type": "code",
   "execution_count": 36,
   "id": "50766264-c340-406c-b4b4-c52d56ca77c0",
   "metadata": {},
   "outputs": [
    {
     "data": {
      "application/vnd.jupyter.widget-view+json": {
       "model_id": "59196753fbf44b0b93613087bab95742",
       "version_major": 2,
       "version_minor": 0
      },
      "text/plain": [
       "NGLWidget()"
      ]
     },
     "metadata": {},
     "output_type": "display_data"
    }
   ],
   "source": [
    "# Biggest cluster for hot Lee\n",
    "a_job = mcmd_jobs['Lee 873K']\n",
    "a_cluster = clusters[13]['Lee 873K']['after']['d03_2']\n",
    "biggest_cluster = a_cluster[np.argmax([len(c) for c in a_cluster])]\n",
    "pr.mcmd_sro.remap_species(a_job)[biggest_cluster].plot3d()"
   ]
  },
  {
   "cell_type": "code",
   "execution_count": 37,
   "id": "e838acbb-6d43-448f-ad98-ff64a692fd4a",
   "metadata": {},
   "outputs": [
    {
     "data": {
      "application/vnd.jupyter.widget-view+json": {
       "model_id": "c8c13be7bbb14199b9c0b533e4c4de4c",
       "version_major": 2,
       "version_minor": 0
      },
      "text/plain": [
       "NGLWidget()"
      ]
     },
     "metadata": {},
     "output_type": "display_data"
    }
   ],
   "source": [
    "# Not so big for cold Lee\n",
    "a_job = mcmd_jobs['Lee 523K']\n",
    "a_cluster = clusters[13]['Lee 523K']['after']['d03_3']\n",
    "biggest_cluster = a_cluster[np.argmax([len(c) for c in a_cluster])]\n",
    "pr.mcmd_sro.remap_species(a_job)[biggest_cluster].plot3d()"
   ]
  },
  {
   "cell_type": "markdown",
   "id": "b4cffad1-ef02-4182-b201-c03ffebcaea6",
   "metadata": {},
   "source": [
    "# MCMD convergence\n",
    "\n",
    "Finally, let's revisit the topic of slow convergence for the Lee potential at 523 K. Informed by our 0K calculations that the system probably wants full phase decomposition with nearly 0\\% Al in the BCC phase, we can use *this* as the starting point for our MCMD instead of a random solid solution.\n",
    "\n",
    "To accomplish this we just build a pure-Fe BCC cell containing a (roughly!) spherical D03 precipitate, and scale the size of this precipitate to get the desired 18\\% nominal Al concentration."
   ]
  },
  {
   "cell_type": "code",
   "execution_count": 38,
   "id": "11e1dbf1-5d8f-45df-ab7f-b3fc45e43b05",
   "metadata": {},
   "outputs": [],
   "source": [
    "def create_decomposed_structure(\n",
    "    target=0.18, \n",
    "    repeat=pr.create.structure.FeAl.supercell_repeats.four_nm_cube\n",
    "):\n",
    "    pre_decomposed = pr.create.structure.FeAl.bcc(repeat=repeat)\n",
    "    d03_species = pr.create.structure.FeAl.d03(repeat=repeat).get_chemical_symbols()\n",
    "    topology = pre_decomposed.get_neighbors(num_neighbors=14).indices\n",
    "    \n",
    "    def get_c_Al(structure):\n",
    "        return np.sum(structure.get_chemical_symbols() == 'Al') / len(structure) \n",
    "\n",
    "    def target_Al_reached(i, j):\n",
    "        if get_c_Al(pre_decomposed) < target:\n",
    "            pre_decomposed[j] = d03_species[j]\n",
    "        c_Al = get_c_Al(pre_decomposed)\n",
    "        return c_Al < target\n",
    "\n",
    "    from pyiron_feal.utils import bfs\n",
    "    bfs(0, topology, target_Al_reached)\n",
    "    \n",
    "    return pre_decomposed"
   ]
  },
  {
   "cell_type": "code",
   "execution_count": 39,
   "id": "2e5530ca-9b2a-4e30-b26e-53d70fb9c522",
   "metadata": {},
   "outputs": [],
   "source": [
    "pre_decomposed_structure = create_decomposed_structure()"
   ]
  },
  {
   "cell_type": "code",
   "execution_count": 40,
   "id": "4644ec02-f1cb-45f9-bf0a-f4be2f6b1cdb",
   "metadata": {},
   "outputs": [
    {
     "name": "stderr",
     "output_type": "stream",
     "text": [
      "2021-10-13 15:06:35,494 - pyiron_log - WARNING - The job lee_523_predecomposed is being loaded instead of running. To re-run use the argument 'delete_existing_job=True in create_job'\n"
     ]
    }
   ],
   "source": [
    "pre_decomposed_cold = pr.create.job.mcmd.small_cube(\n",
    "    temperature=523, \n",
    "    potl_index=2,\n",
    "    n_ionic_steps=1e5,\n",
    "    n_print=1e4,\n",
    "    name_override='lee_523_predecomposed'\n",
    ")\n",
    "pre_decomposed_cold.structure = pre_decomposed_structure.copy()\n",
    "pre_decomposed_cold.server.queue = SERVER\n",
    "pre_decomposed_cold.run()"
   ]
  },
  {
   "cell_type": "code",
   "execution_count": 41,
   "id": "bb979903-cfdd-428a-b6b3-5167895f494e",
   "metadata": {},
   "outputs": [
    {
     "name": "stderr",
     "output_type": "stream",
     "text": [
      "2021-10-13 15:06:36,387 - pyiron_log - WARNING - The job lee_873_predecomposed is being loaded instead of running. To re-run use the argument 'delete_existing_job=True in create_job'\n"
     ]
    }
   ],
   "source": [
    "pre_decomposed_hot = pr.create.job.mcmd.small_cube(\n",
    "    temperature=873, \n",
    "    potl_index=2,\n",
    "    n_ionic_steps=1e5,\n",
    "    n_print=1e4,\n",
    "    name_override='lee_873_predecomposed'\n",
    ")\n",
    "pre_decomposed_hot.structure = pre_decomposed_structure.copy()\n",
    "pre_decomposed_hot.server.queue = SERVER\n",
    "pre_decomposed_hot.run()"
   ]
  },
  {
   "cell_type": "markdown",
   "id": "20e6f3a5-3ea0-4195-8382-fb3802c3063a",
   "metadata": {},
   "source": [
    "The energy plots are not super informative, but indeed we no longer see the strong trend of energy vs time as for the very unhappy 523 K Lee simulation starting from random solution."
   ]
  },
  {
   "cell_type": "code",
   "execution_count": 42,
   "id": "9a09e48a-446e-476f-b355-fe0ee7d338a2",
   "metadata": {},
   "outputs": [
    {
     "data": {
      "text/plain": [
       "<matplotlib.legend.Legend at 0x2af222f092d0>"
      ]
     },
     "execution_count": 42,
     "metadata": {},
     "output_type": "execute_result"
    },
    {
     "data": {
      "image/png": "[encoded data removed]",
      "text/plain": [
       "<Figure size 432x288 with 1 Axes>"
      ]
     },
     "metadata": {
      "needs_background": "light"
     },
     "output_type": "display_data"
    }
   ],
   "source": [
    "plt.plot(\n",
    "    (pre_decomposed_cold.output.energy_pot[1:] - pre_decomposed_cold.output.energy_pot[1]) / len(pre_decomposed_structure), \n",
    "    marker='o', \n",
    "    label='523K'\n",
    ")\n",
    "plt.plot(\n",
    "    (pre_decomposed_hot.output.energy_pot[1:] - pre_decomposed_hot.output.energy_pot[1]) / len(pre_decomposed_structure), \n",
    "    marker='o', \n",
    "    label='873K'\n",
    ")\n",
    "plt.legend()"
   ]
  },
  {
   "cell_type": "markdown",
   "id": "7fc99266-303a-4354-ad47-6addf294056e",
   "metadata": {},
   "source": [
    "We hypothesize that at the lower temperature, except for some adjustment in the *shape* of the precipitate, the system should already be quite happy. Meanwhile, at a higher temperature we expect some of the Al to wind up in the solid solution, and we might also expect the precipitate to break apart into smaller chunks (more smaller clusters favouring entropy over energy -- i.e. SRO). Indeed, by plotting the cluster histograms as a function of MCMD time this is what we see.\n",
    "\n",
    "For 523 K there is a stable second cluster around 40 atoms in size, but the other small clusters are transient and condense into either the initial cluster or this smaller one.\n",
    "\n",
    "In contrast, for 873 K we do see a large secondary cluster (around 70 atoms), but at the end (i.e. darkest red) there are still quite a few smaller (10-50 atom) clusters available. The random solution is a much better starting point for this temperature and the simulation here is likely not fully converged, but the general trend of the single large precipitate breaking apart is exactly what we see."
   ]
  },
  {
   "cell_type": "code",
   "execution_count": 43,
   "id": "405f244c-e825-45f3-b54e-027d6fd5c579",
   "metadata": {},
   "outputs": [],
   "source": [
    "pre_decomposed_clusters = {'cold': [], 'hot': []}\n",
    "for job, key in zip([pre_decomposed_cold, pre_decomposed_hot], pre_decomposed_clusters.keys()):\n",
    "    for frame in range(len(job.output.energy_pot)):\n",
    "        chemistry = job.get_structure(frame).get_chemical_symbols()\n",
    "        pre_decomposed_clusters[key].append(pr.mcmd_sro.cluster(chemistry))"
   ]
  },
  {
   "cell_type": "code",
   "execution_count": 149,
   "id": "4b760cb9-8175-4ae3-8fd4-f5035e63d649",
   "metadata": {},
   "outputs": [],
   "source": [
    "def plot_pre_decomposed_hist(\n",
    "    ax, \n",
    "    clusters, \n",
    "    binsize=10, \n",
    "    maxsize=None, \n",
    "    title=None, \n",
    "    logy=True,\n",
    "    **hist_kwargs\n",
    "):\n",
    "    clusters = [clusts.d03 for clusts in clusters]\n",
    "    if ax is None:\n",
    "        _, ax = plt.subplots()\n",
    "    biggest = np.amax([np.amax(c) for c in clusters]) if maxsize is None else maxsize\n",
    "    divisions = int(biggest/binsize)\n",
    "    ax.hist(\n",
    "        clusters, \n",
    "        bins=np.arange(biggest + binsize, step=binsize), # np.logspace(2, biggest, num=divisions + 1), #\n",
    "        **hist_kwargs\n",
    "    )\n",
    "    if logy:\n",
    "        ax.set_yscale('log')\n",
    "    # ax.set_xscale('log')\n",
    "    if title is not None:\n",
    "        ax.set_title(title)\n",
    "    ax.set_ylabel('Cluster count')\n",
    "    return ax"
   ]
  },
  {
   "cell_type": "code",
   "execution_count": 151,
   "id": "fe9bfc54-c7cf-47bb-8968-bdde0454e8ad",
   "metadata": {},
   "outputs": [
    {
     "data": {
      "image/png": "[encoded data removed]",
      "text/plain": [
       "<Figure size 288x432 with 2 Axes>"
      ]
     },
     "metadata": {
      "needs_background": "light"
     },
     "output_type": "display_data"
    }
   ],
   "source": [
    "fig, axes  = plt.subplots(nrows=2, figsize=(4,6))\n",
    "maxsize = 30\n",
    "plot_pre_decomposed_hist(\n",
    "    axes[0], \n",
    "    pre_decomposed_clusters['cold'], \n",
    "    maxsize=maxsize, \n",
    "    title='523 K', \n",
    "    logy=False,\n",
    "    color=sns.color_palette('Blues', n_colors=len(pre_decomposed_clusters['cold'])), \n",
    ")\n",
    "plot_pre_decomposed_hist(\n",
    "    axes[1], \n",
    "    pre_decomposed_clusters['hot'], \n",
    "    maxsize=maxsize, \n",
    "    title='873 K', \n",
    "    logy=True,\n",
    "    color=sns.color_palette('Reds', n_colors=len(pre_decomposed_clusters['hot'])), \n",
    ")\n",
    "axes[1].set_xlabel('Cluster size')\n",
    "fig.tight_layout()\n",
    "fig.savefig('writeup/supplementary/figures/decomposing_clusters.eps', fmt='eps')"
   ]
  },
  {
   "cell_type": "markdown",
   "id": "618545a3-9f07-4dc7-9b11-dab6ab6ab60b",
   "metadata": {},
   "source": [
    "We can also peek at what sort of Al concentration we wind up with in the solid solution. Of course to begin with it's zero by construction."
   ]
  },
  {
   "cell_type": "code",
   "execution_count": 46,
   "id": "7dc9f069-36c5-485a-872f-153b48833fec",
   "metadata": {},
   "outputs": [],
   "source": [
    "def get_solid_solution_Al_fraction(structure, clusters):\n",
    "    \"\"\"That's not in the given cluster\"\"\"\n",
    "    d03_ids = np.concatenate(tuple([vv for k, v in clusters.data.items() if 'd03' in k and len(v) > 0 for vv in v]))\n",
    "\n",
    "    Al_tot = np.sum(structure.get_chemical_symbols() == 'Al')\n",
    "    Al_clust = np.sum(structure[np.unique(d03_ids)].get_chemical_symbols() == 'Al')\n",
    "    Al_ss = Al_tot - Al_clust\n",
    "    sites_ss = len(structure) - len(d03_ids)\n",
    "    return Al_ss / sites_ss"
   ]
  },
  {
   "cell_type": "code",
   "execution_count": 47,
   "id": "6c7ce81e-1d44-431e-84c5-9e429c27688f",
   "metadata": {},
   "outputs": [
    {
     "name": "stdout",
     "output_type": "stream",
     "text": [
      "cold\n",
      "solid solution Al before = 0.0\n",
      "solid solution Al after = 0.0\n",
      "hot\n",
      "solid solution Al before = 0.0\n",
      "solid solution Al after = 0.03977695167286245\n"
     ]
    }
   ],
   "source": [
    "for job, (k, clusters) in zip(\n",
    "    [pre_decomposed_cold, pre_decomposed_hot], \n",
    "    pre_decomposed_clusters.items()\n",
    "):\n",
    "    print(k)\n",
    "    print(f\"solid solution Al before = {get_solid_solution_Al_fraction(job.get_structure(0), clusters[0])}\")\n",
    "    print(f\"solid solution Al after = {get_solid_solution_Al_fraction(job.get_structure(-1), clusters[-1])}\")"
   ]
  },
  {
   "cell_type": "markdown",
   "id": "c030bd74-5753-404a-9f81-725dc3bf4987",
   "metadata": {},
   "source": [
    "Ok, according to our clustering algorithm the final solid solution Al concentration is even lower than our 0K potential energy \"phase diagram\" might have predicted, but at 4\\% it's at least very very roughly in the right ball park. Again, the qualitative trend that the solid solution concentration is much higher at the higher temperature (still ZERO for 523 K!) is spot on.\n",
    "\n",
    "Let's just look at the final cluster sizes directly"
   ]
  },
  {
   "cell_type": "code",
   "execution_count": 48,
   "id": "4061d3d2-344f-4074-8e2d-c567e4cdcc52",
   "metadata": {},
   "outputs": [
    {
     "data": {
      "text/plain": [
       "array([3638,    1,    1,    1,    1,    1,    1,    4,    1,    1,    1])"
      ]
     },
     "execution_count": 48,
     "metadata": {},
     "output_type": "execute_result"
    }
   ],
   "source": [
    "pre_decomposed_clusters['cold'][-1].d03"
   ]
  },
  {
   "cell_type": "code",
   "execution_count": 49,
   "id": "2365c6da-d465-4705-b633-92b99bd6d1a6",
   "metadata": {},
   "outputs": [
    {
     "data": {
      "text/plain": [
       "array([2726,    1,    1,    1,    1,    1,    3,    1,    4,   12,    1,\n",
       "          1,   12,    1,    8,    3,    1,    1,    1,    1,    1,    1,\n",
       "          1,    1,    1,    1,    1,    1,    1,    1,    1,    1,    1,\n",
       "          1,    1,    1,    1])"
      ]
     },
     "execution_count": 49,
     "metadata": {},
     "output_type": "execute_result"
    }
   ],
   "source": [
    "pre_decomposed_clusters['hot'][-1].d03"
   ]
  },
  {
   "cell_type": "code",
   "execution_count": 50,
   "id": "dc89a194-05b0-4f48-b017-a5ac6b78b344",
   "metadata": {},
   "outputs": [
    {
     "data": {
      "text/plain": [
       "array([], dtype=int64)"
      ]
     },
     "execution_count": 50,
     "metadata": {},
     "output_type": "execute_result"
    }
   ],
   "source": [
    "pre_decomposed_clusters['cold'][-1].b2"
   ]
  },
  {
   "cell_type": "code",
   "execution_count": 51,
   "id": "24d75a43-3d7d-4428-ae1b-62bc0383601c",
   "metadata": {},
   "outputs": [
    {
     "data": {
      "text/plain": [
       "array([1, 1, 1, 1, 1, 1, 1, 1, 1, 1, 1, 1])"
      ]
     },
     "execution_count": 51,
     "metadata": {},
     "output_type": "execute_result"
    }
   ],
   "source": [
    "pre_decomposed_clusters['hot'][-1].b2"
   ]
  },
  {
   "cell_type": "code",
   "execution_count": 52,
   "id": "5a8a4241-d120-42b4-a0e9-1ea93de731ef",
   "metadata": {},
   "outputs": [
    {
     "data": {
      "text/plain": [
       "137.26416666666665"
      ]
     },
     "execution_count": 52,
     "metadata": {},
     "output_type": "execute_result"
    }
   ],
   "source": [
    "pr.job_table()['totalcputime'].values.sum() / 3600"
   ]
  },
  {
   "cell_type": "markdown",
   "id": "6fb4b803-5f9b-45a6-9d36-0e2a883f8099",
   "metadata": {},
   "source": [
    "# Cluster turnover\n",
    "\n",
    "As a sanity check on our hypothesis that at high temperatures it is entropy driving perfect phase decomposition towards more and smaller D03 clusters, let's check the turnover in cluster makeup as a function of time. If we are in a regime of (slow) Ostwald ripening, we can expect clusters to contain more or less the same sites from snapshot to snapshot. On the other hand, if, as we suspect, clusters form somewhat spontaneously due to the higher solid solution Al content and are prevented (due to the entropic benefit of breaking up clusters) from forming critical nuclii and undergoing full phase decomposition, then we should see pretty high turnover in which sites are making up the D03 clusters."
   ]
  },
  {
   "cell_type": "code",
   "execution_count": 62,
   "id": "10e1828a-70c1-4506-93b2-7fadc1866adb",
   "metadata": {},
   "outputs": [],
   "source": [
    "through_time = {}\n",
    "for job_key in ['Lee 523K', 'Lee 873K']:\n",
    "    through_time[job_key] = {}\n",
    "    job = mcmd_jobs[job_key]\n",
    "    for n in np.arange(len(job.output.energy_pot)):\n",
    "        through_time[job_key][n] = pr.mcmd_sro.cluster(\n",
    "            job.get_structure(n).get_chemical_symbols(),\n",
    "            threshold=13\n",
    "        )"
   ]
  },
  {
   "cell_type": "code",
   "execution_count": 71,
   "id": "eb43e8c9-7243-46f3-b60e-2774717f6194",
   "metadata": {},
   "outputs": [],
   "source": [
    "def get_all_phase_ids(cluster, phase='d03'):\n",
    "    return np.concatenate([\n",
    "        np.concatenate(id_list) \n",
    "        for k, id_list in cluster.data.items() \n",
    "        if phase in k\n",
    "    ])"
   ]
  },
  {
   "cell_type": "code",
   "execution_count": 86,
   "id": "bcff8f03-7372-4b08-b620-7d37b653ef41",
   "metadata": {},
   "outputs": [],
   "source": [
    "def compare_sets(new_set, old_set):\n",
    "    union = np.union1d(now, before)\n",
    "    diff = np.setdiff1d(now, before)\n",
    "    return [len(now), len(diff)]"
   ]
  },
  {
   "cell_type": "code",
   "execution_count": 87,
   "id": "eef5f155-82ab-46a7-a353-0285916cb599",
   "metadata": {},
   "outputs": [],
   "source": [
    "turnover_stats = {}\n",
    "for k, dict_ in through_time.items():\n",
    "    before = get_all_phase_ids(dict_[0])\n",
    "    stats = []\n",
    "    for n in np.arange(1, len(dict_)):\n",
    "        now = get_all_phase_ids(dict_[n])\n",
    "        stats.append(compare_sets(now, before))\n",
    "        before = now\n",
    "    turnover_stats[k] = np.array(stats).T"
   ]
  },
  {
   "cell_type": "code",
   "execution_count": 153,
   "id": "51499333-1bcc-4be9-bd2e-cfa6f1d0238c",
   "metadata": {},
   "outputs": [
    {
     "name": "stderr",
     "output_type": "stream",
     "text": [
      "The PostScript backend does not support transparency; partially transparent artists will be rendered opaque.\n",
      "The PostScript backend does not support transparency; partially transparent artists will be rendered opaque.\n"
     ]
    },
    {
     "data": {
      "image/png": "[encoded data removed]",
      "text/plain": [
       "<Figure size 432x288 with 2 Axes>"
      ]
     },
     "metadata": {
      "needs_background": "light"
     },
     "output_type": "display_data"
    }
   ],
   "source": [
    "fig, ax_total = plt.subplots()\n",
    "ax_turnover = ax_total.twinx()\n",
    "colors_ = sns.color_palette(n_colors=2)\n",
    "\n",
    "for c, (k, v) in zip(colors_, turnover_stats.items()):\n",
    "    T = k.split(' ')[-1]\n",
    "    ax_turnover.plot(v[1] / v[0], label=T + ' fraction new', marker='o', linestyle='--', color=c)\n",
    "    ax_total.plot(v[0], label=T + ' total', marker='s', color=c)\n",
    "ax_turnover.set_xlabel('Dump frame')\n",
    "ax_turnover.set_ylabel('Fraction new')\n",
    "ax_total.set_ylabel('Total sites')\n",
    "fig.legend(loc='upper center', ncol=2, bbox_to_anchor=(0.5, 1.05))\n",
    "# fig.tight_layout()\n",
    "fig.savefig('writeup/supplementary/figures/cluster_turnover.eps', fmt='eps')"
   ]
  },
  {
   "cell_type": "markdown",
   "id": "6ed6598c-f51f-45c7-95b8-2067c27b7019",
   "metadata": {},
   "source": [
    "# Conclusion\n",
    "\n",
    "We'll be very brief here since most of it's in the writeup: for the Lee potential at the higher temperature (873 K) we do indeed see a strong tendency towards a bunch of small and medium sized D03 clusters -- i.e. SRO. At the colder temperature (523 K) these are absent. From the 0K potential energies (and including configurational entropy) we can understand this fairly well: at the lower temperature the miscibility gap between the solid solution and D03 is huge (at least for this potential) and there is hardly any Al left in the solution to form these smaller clusters, and we wind up with a driving force towards fewer, larger D03 precipitates. In contrast, at higher temperature we have both more Al in the solution, giving potential clusters some material to work with, and an entropic drive towards more but smaller clusters, i.e. SRO. This perspective is supported by the high turnover of which atoms make up the clusters at high temperature."
   ]
  },
  {
   "cell_type": "code",
   "execution_count": null,
   "id": "de6ebdd7-0cbb-4b57-ba75-8e1d7af54697",
   "metadata": {},
   "outputs": [],
   "source": []
  }
 ],
 "metadata": {
  "kernelspec": {
   "display_name": "Python [conda env:root] *",
   "language": "python",
   "name": "conda-root-py"
  },
  "language_info": {
   "codemirror_mode": {
    "name": "ipython",
    "version": 3
   },
   "file_extension": ".py",
   "mimetype": "text/x-python",
   "name": "python",
   "nbconvert_exporter": "python",
   "pygments_lexer": "ipython3",
   "version": "3.7.10"
  }
 },
 "nbformat": 4,
 "nbformat_minor": 5
}
